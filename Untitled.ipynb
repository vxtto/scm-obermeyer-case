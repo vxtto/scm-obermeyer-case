{
 "cells": [
  {
   "cell_type": "code",
   "execution_count": 1,
   "id": "0ff7545e-2744-4a94-9a00-4e6cf686bd41",
   "metadata": {},
   "outputs": [],
   "source": [
    "import numpy as np"
   ]
  },
  {
   "cell_type": "code",
   "execution_count": 2,
   "id": "bdec2508-dae6-468f-8d13-4a960d6e311d",
   "metadata": {},
   "outputs": [],
   "source": [
    "products = {\n",
    "    \"gail\":(1017, 388),\n",
    "    \"isis\":(1042, 646),\n",
    "    \"entice\":(1358, 496)\n",
    "}"
   ]
  },
  {
   "cell_type": "code",
   "execution_count": 3,
   "id": "c1b7ac1b-9df5-43f8-9f5a-5826f3ab4ba4",
   "metadata": {},
   "outputs": [],
   "source": [
    "# products = {\n",
    "#     \"gail\":(1000, 100),\n",
    "#     \"isis\":(1000, 50),\n",
    "#     \"entice\":(1000, 500)\n",
    "# }"
   ]
  },
  {
   "cell_type": "code",
   "execution_count": 4,
   "id": "0acbae87-f5f2-4831-b1a4-b458640469c0",
   "metadata": {},
   "outputs": [],
   "source": [
    "product_distribution_moments = np.array(list(products.values()))\n",
    "means = product_distribution_moments[:,0]\n",
    "std_devs = product_distribution_moments[:,1]\n",
    "production_capacity = np.sum(means)"
   ]
  },
  {
   "cell_type": "code",
   "execution_count": 5,
   "id": "5420ce62-a8d9-4e4e-9590-be9a3fa33991",
   "metadata": {},
   "outputs": [],
   "source": [
    "def run_simul(first_order, num_simulations):\n",
    "    # Generate the final demand\n",
    "    gaussian_realizations = np.random.normal(loc=means, scale=std_devs, size=(num_simulations,3))\n",
    "    gaussian_realizations[gaussian_realizations<0] = 0\n",
    "\n",
    "    # Compute delta between demand and november order\n",
    "    delta_orders = gaussian_realizations - first_order\n",
    "\n",
    "    # Overstocks are products for which we already overshot during the first order\n",
    "    overstock = np.absolute(np.sum(delta_orders * (delta_orders < 0), axis=1))\n",
    "    # Missed sales is the products we won't be able to produce due to capacity\n",
    "    # constraints despite knowing the end of season values\n",
    "    remaining_demand = np.sum(delta_orders * (delta_orders > 0), axis=1)\n",
    "    remaining_capacity = production_capacity - first_order.sum()\n",
    "    missed_sales = remaining_demand - remaining_capacity\n",
    "    missed_sales[missed_sales < 0] = 0\n",
    "\n",
    "    # Costs on overstack are one per unit, missed sales are three per unit\n",
    "    overstock_cost = overstock\n",
    "    missed_sales_cost = missed_sales * 3\n",
    "    total_cost = overstock_cost + missed_sales_cost\n",
    "    \n",
    "    return total_cost.mean()"
   ]
  },
  {
   "cell_type": "code",
   "execution_count": 62,
   "id": "97051216-512f-4157-beee-a0aaacf1d8c2",
   "metadata": {},
   "outputs": [
    {
     "name": "stdout",
     "output_type": "stream",
     "text": [
      "half mean order: [508.5 521.  679. ], total: 1708.5\n",
      "over-ordering volatile styles: [505.5 527.  676. ], total: 1708.5\n",
      "under-ordering volatile styles: [511.5 515.  682. ], total: 1708.5\n"
     ]
    }
   ],
   "source": [
    "half_mean_first_order = means/2\n",
    "print('half mean order: {}, total: {}'.format(half_mean_first_order, half_mean_first_order.sum()))\n",
    "overorder_volatile_first_order = np.array([505.5, 527, 676])\n",
    "print('over-ordering volatile styles: {}, total: {}'.format(overorder_volatile_first_order, overorder_volatile_first_order.sum()))\n",
    "underorder_volatile_first_order = np.array([511.5, 515, 682])\n",
    "print('under-ordering volatile styles: {}, total: {}'.format(underorder_volatile_first_order, underorder_volatile_first_order.sum()))\n",
    "num_simuls = 5000000"
   ]
  },
  {
   "cell_type": "code",
   "execution_count": 63,
   "id": "75d7340f-0e55-46df-ad89-fb78eeddcdf0",
   "metadata": {},
   "outputs": [],
   "source": [
    "# products"
   ]
  },
  {
   "cell_type": "code",
   "execution_count": 64,
   "id": "6d98f28e-1e0e-4907-af3b-0edda3284f03",
   "metadata": {},
   "outputs": [],
   "source": [
    "def compare():\n",
    "    half_mean_cost = run_simul(half_mean_first_order, num_simuls)\n",
    "    over_volatile_cost = run_simul(overorder_volatile_first_order, num_simuls)\n",
    "    under_volatile_cost = run_simul(underorder_volatile_first_order, num_simuls)\n",
    "    print(half_mean_cost, over_volatile_cost, under_volatile_cost)"
   ]
  }
 ],
 "metadata": {
  "kernelspec": {
   "display_name": "tabular",
   "language": "python",
   "name": "tabular"
  },
  "language_info": {
   "codemirror_mode": {
    "name": "ipython",
    "version": 3
   },
   "file_extension": ".py",
   "mimetype": "text/x-python",
   "name": "python",
   "nbconvert_exporter": "python",
   "pygments_lexer": "ipython3",
   "version": "3.11.3"
  }
 },
 "nbformat": 4,
 "nbformat_minor": 5
}
