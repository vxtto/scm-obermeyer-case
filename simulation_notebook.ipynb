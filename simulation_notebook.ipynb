{
 "cells": [
  {
   "cell_type": "markdown",
   "id": "f46abb66-c0eb-4983-9a31-12876a5828d7",
   "metadata": {},
   "source": [
    "# Obermeyer Case Simulation"
   ]
  },
  {
   "cell_type": "markdown",
   "id": "c79e211b-ac46-42ec-9ae9-e4f7f570275e",
   "metadata": {},
   "source": [
    "This notebook was created to simulate the Obermeyer parka purchasing case starting from the normal distributions Wally Obermeyer had constructed from previous years of data."
   ]
  },
  {
   "cell_type": "code",
   "execution_count": 1,
   "id": "0ff7545e-2744-4a94-9a00-4e6cf686bd41",
   "metadata": {},
   "outputs": [],
   "source": [
    "# To speed up computations, the kernel was ran on GPU via CuPy.\n",
    "# You can change the import to numpy to run on a local machine\n",
    "# without CUDA installed.\n",
    "import cupy as np\n",
    "# Packages to display results\n",
    "from IPython.display import display, HTML\n",
    "import pandas as pd\n",
    "import matplotlib"
   ]
  },
  {
   "cell_type": "markdown",
   "id": "4e5db014-b200-4f54-953a-9a3b665e0e5d",
   "metadata": {},
   "source": [
    "## Our approach"
   ]
  },
  {
   "cell_type": "markdown",
   "id": "19062174-c928-49b1-847f-6e7245d60c04",
   "metadata": {},
   "source": [
    "Our plan is to **place the first order with different combinations of styles**, and see which ways optimizes costs.\n",
    "We will try ordering\n",
    "- half of the forecast for each style\n",
    "- larger quantities for more volatile styles\n",
    "- smaller quantities for more volatile styles\n",
    "\n",
    "To simplify our analysis, we take the first three products from **Exhibit 10**."
   ]
  },
  {
   "cell_type": "code",
   "execution_count": 2,
   "id": "bdec2508-dae6-468f-8d13-4a960d6e311d",
   "metadata": {},
   "outputs": [],
   "source": [
    "products = {\n",
    "    \"gail\":(1017, 388),\n",
    "    \"isis\":(1042, 646),\n",
    "    \"entice\":(1358, 496)\n",
    "}"
   ]
  },
  {
   "cell_type": "markdown",
   "id": "11a89aac-e443-415b-88aa-ab1a65e540b3",
   "metadata": {},
   "source": [
    "## Initializing"
   ]
  },
  {
   "cell_type": "code",
   "execution_count": 3,
   "id": "86d41572-2f6f-4477-bbef-48cfbe957f78",
   "metadata": {},
   "outputs": [],
   "source": [
    "# Extract the gaussian parameters from the dictionary\n",
    "product_distribution_moments = np.array(list(products.values()))\n",
    "means = product_distribution_moments[:,0]\n",
    "std_devs = product_distribution_moments[:,1]"
   ]
  },
  {
   "cell_type": "markdown",
   "id": "3d65ea43-ffba-4903-bfab-61ea07a30179",
   "metadata": {},
   "source": [
    "As our approach simplifies the already simplified case of 20.000 units of capacity per season, we assume that the production capacity is equal to the sum of the forcasts of the Buying Committee for the three selected styles"
   ]
  },
  {
   "cell_type": "code",
   "execution_count": 4,
   "id": "483b1b49-75ee-4aed-9e8d-66d03909f2a8",
   "metadata": {},
   "outputs": [
    {
     "name": "stdout",
     "output_type": "stream",
     "text": [
      "Total seasonal production capacity: 3417.\n",
      "For this reason, the first order MOQ is 1708.5\n"
     ]
    }
   ],
   "source": [
    "production_capacity = np.sum(means)\n",
    "print('Total seasonal production capacity: {}.\\nFor this reason, the first order MOQ is {}'.format(production_capacity, production_capacity/2))"
   ]
  },
  {
   "cell_type": "markdown",
   "id": "e8f4131b-732b-4405-ac6f-ca27d0dafca5",
   "metadata": {},
   "source": [
    "We do not round to integer. With this type of analysis, the impact of this choice is negligible."
   ]
  },
  {
   "cell_type": "markdown",
   "id": "db7e2ddf-1930-4c81-bbb6-a92d2bf31ff4",
   "metadata": {},
   "source": [
    "## Defining the simulation"
   ]
  },
  {
   "cell_type": "markdown",
   "id": "3c2094f9-c8bf-48a9-b908-f4afbcf34b9b",
   "metadata": {},
   "source": [
    "The function below is the core of the simulation.\n",
    "\n",
    "The first order is the main input, and it is parametrized as a vector of three numbers.\n",
    "\n",
    "The second parameter is the number of simulations to run.\n",
    "\n",
    "The simulation returns two values, the average cost over all simulations we will incur for overstocking certain styles and understocking other styles."
   ]
  },
  {
   "cell_type": "code",
   "execution_count": 5,
   "id": "5420ce62-a8d9-4e4e-9590-be9a3fa33991",
   "metadata": {},
   "outputs": [],
   "source": [
    "def run_simul(first_order, num_simulations):\n",
    "    # Generate the final demand\n",
    "    gaussian_realizations = np.random.normal(loc=means, scale=std_devs, size=(num_simulations,3))\n",
    "    gaussian_realizations[gaussian_realizations<0] = 0\n",
    "\n",
    "    # Compute delta between demand and november order\n",
    "    delta_orders = gaussian_realizations - first_order\n",
    "\n",
    "    # Overstocks are products for which we already overshot during the first order\n",
    "    overstock = np.absolute(np.sum(delta_orders * (delta_orders < 0), axis=1))\n",
    "    # Missed sales is the products we won't be able to produce due to capacity\n",
    "    # constraints despite knowing the end of season values\n",
    "    remaining_demand = np.sum(delta_orders * (delta_orders > 0), axis=1)\n",
    "    remaining_capacity = production_capacity - first_order.sum()\n",
    "    missed_sales = remaining_demand - remaining_capacity\n",
    "    # In the cases where the remaining demand is fewer than the remaining capacity,\n",
    "    # we will not use the full capacity. The missed sales calculation gives negative\n",
    "    # results (more capacity than demand). In reality, the missed sales in those cases\n",
    "    # are zero.\n",
    "    missed_sales[missed_sales < 0] = 0\n",
    "\n",
    "    # Costs on overstack are one per unit, missed sales are three per unit\n",
    "    overstock_cost = overstock\n",
    "    missed_sales_cost = missed_sales * 3\n",
    "    \n",
    "    return overstock_cost.mean(), missed_sales_cost.mean()"
   ]
  },
  {
   "cell_type": "markdown",
   "id": "4c720314-ec4a-4ce9-ba84-93c6726c6331",
   "metadata": {},
   "source": [
    "## Running the simulation"
   ]
  },
  {
   "cell_type": "markdown",
   "id": "a435f41c-425b-47b8-aa19-30fb6f2e967a",
   "metadata": {},
   "source": [
    "Having defined the code that will take in and process our orders, in this section we 'create' the orders and run them through the simulation function."
   ]
  },
  {
   "cell_type": "code",
   "execution_count": 20,
   "id": "b68fa057-c479-4d02-bbaf-1c48e9872420",
   "metadata": {},
   "outputs": [],
   "source": [
    "# Number of rounds the simulation will be ran for\n",
    "# With the hardware that was available to us, we were able to\n",
    "# run simulation batches of 150 million realizations.\n",
    "# With such a large batch, we were able to obtain constant\n",
    "# descriptive statistics across runs\n",
    "num_simuls = int(1.5e8)"
   ]
  },
  {
   "cell_type": "code",
   "execution_count": 7,
   "id": "d72351dd-91dd-4690-bf0c-84b94d3a5ec9",
   "metadata": {},
   "outputs": [],
   "source": [
    "def print_order_details(order_name, order_quantities):\n",
    "    print('The order \"{}\" contains:'.format(order_name))\n",
    "    for style_name, style_quantity in zip(products.keys(), order_quantities):\n",
    "        print('\\t{} units of style {}.'.format(style_quantity, style_name))\n",
    "    print('Total order quantity: {}\\n'.format(order_quantities.sum()))"
   ]
  },
  {
   "cell_type": "markdown",
   "id": "6f317ebe-eaa4-4115-921e-464a54203dc3",
   "metadata": {},
   "source": [
    "### Ordering half of the forecast for each style"
   ]
  },
  {
   "cell_type": "code",
   "execution_count": 8,
   "id": "961dab36-d3cd-4c0d-ae93-2212699e2a2c",
   "metadata": {},
   "outputs": [
    {
     "name": "stdout",
     "output_type": "stream",
     "text": [
      "The order \"Half-mean order\" contains:\n",
      "\t508.5 units of style gail.\n",
      "\t521.0 units of style isis.\n",
      "\t679.0 units of style entice.\n",
      "Total order quantity: 1708.5\n",
      "\n"
     ]
    }
   ],
   "source": [
    "# Creating the order\n",
    "half_mean_first_order = means/2\n",
    "\n",
    "# Checking if the order is as expected\n",
    "print_order_details('Half-mean order', half_mean_first_order)"
   ]
  },
  {
   "cell_type": "code",
   "execution_count": 9,
   "id": "e561f069-4fee-4052-95e6-0f3b335b7351",
   "metadata": {},
   "outputs": [],
   "source": [
    "# Running the simulation and storing the costs\n",
    "overstock_cost, missed_sales_cost = run_simul(half_mean_first_order, num_simuls)"
   ]
  },
  {
   "cell_type": "code",
   "execution_count": 19,
   "id": "2efb281b-d2b7-4be6-8ff6-cd479a9c9a89",
   "metadata": {},
   "outputs": [
    {
     "data": {
      "text/html": [
       "\n",
       "<div style=\"font-size:20px; color: black;\">\n",
       "    <p>Overstock cost: 97 u</p>\n",
       "    <p>Missed sales cost: 1123 u</p>\n",
       "</div>\n"
      ],
      "text/plain": [
       "<IPython.core.display.HTML object>"
      ]
     },
     "metadata": {},
     "output_type": "display_data"
    }
   ],
   "source": [
    "# Creating HTML content to display the results prominently\n",
    "html_content = f\"\"\"\n",
    "<div style=\"font-size:20px; color: black;\">\n",
    "    <p>Overstock cost: {int(overstock_cost)} u</p>\n",
    "    <p>Missed sales cost: {int(missed_sales_cost)} u</p>\n",
    "</div>\n",
    "\"\"\"\n",
    "\n",
    "# Displaying the HTML content\n",
    "display(HTML(html_content))"
   ]
  },
  {
   "cell_type": "markdown",
   "id": "3220604f-e00f-4276-8f0c-6e28d64e9817",
   "metadata": {},
   "source": [
    "In the case of ordering exactly half of the forecast, we would incur overstocking costs equal to 97u and missed sales costs equal to 1123u.\n",
    "\n",
    "One unit **does not** correspond to a parka. It's rather a standalone costing unit that is used for relative comparisons across simulations."
   ]
  },
  {
   "cell_type": "markdown",
   "id": "0c6c5816-a156-4ac1-8474-04e56a0b5c51",
   "metadata": {},
   "source": [
    "### Ordering more of the volatile style"
   ]
  },
  {
   "cell_type": "markdown",
   "id": "5bc62b90-1e1a-4f41-a344-85c45d85328e",
   "metadata": {},
   "source": [
    "Now we run a series of simulations in which we gradually increase the number of units ordered in the volatile style, which is style number 2, \"isis\".\n",
    "The intuition is that we expect to be able to be better prepared to capture the cases of high demand if we start off with a considerable order in the volatile style."
   ]
  },
  {
   "cell_type": "code",
   "execution_count": 11,
   "id": "991e316a-13e6-4ee0-a9ef-5a58fdcdcdf0",
   "metadata": {},
   "outputs": [],
   "source": [
    "# Number of units added to the volatile style for each simulation.\n",
    "# As we only order MOQ, the other two styles will be reduced by\n",
    "# half of the increase, each\n",
    "quantity_variations = [10,20,50,100,200,400]"
   ]
  },
  {
   "cell_type": "code",
   "execution_count": 12,
   "id": "a7eaceb6-7777-4ea2-ba5c-a4824c6a8da3",
   "metadata": {},
   "outputs": [
    {
     "name": "stdout",
     "output_type": "stream",
     "text": [
      "Running simulation with 10 extra units of the volatile style.\n",
      "Running simulation with 20 extra units of the volatile style.\n",
      "Running simulation with 50 extra units of the volatile style.\n",
      "Running simulation with 100 extra units of the volatile style.\n",
      "Running simulation with 200 extra units of the volatile style.\n",
      "Running simulation with 400 extra units of the volatile style.\n"
     ]
    }
   ],
   "source": [
    "# Array to store results for later visualizations\n",
    "overorder_results = []\n",
    "\n",
    "# Run simulation with increasing units\n",
    "for extra_units in quantity_variations:\n",
    "    print('Running simulation with {} extra units of the volatile style.'.format(extra_units))\n",
    "    # Create the order\n",
    "    overorder_volatile_stles = half_mean_first_order.copy()\n",
    "    overorder_volatile_stles[[0,2]] -= extra_units/2\n",
    "    overorder_volatile_stles[1] += extra_units\n",
    "    \n",
    "    # print_order_details('Volatile {} extra'.format(extra_units), overorder_volatile_stles)\n",
    "    overorder_results.append(run_simul(overorder_volatile_stles, num_simuls))"
   ]
  },
  {
   "cell_type": "markdown",
   "id": "634b0ac0-5208-4abb-977a-85b206f4b7d4",
   "metadata": {},
   "source": [
    "### Visualizing results"
   ]
  },
  {
   "cell_type": "code",
   "execution_count": 13,
   "id": "51b46184-9935-4305-b58c-58456fb335a8",
   "metadata": {},
   "outputs": [],
   "source": [
    "col_names = ['overstock_costs', 'missed_sales_costs']\n",
    "\n",
    "overorder_viz_dataframe = pd.DataFrame(overorder_results, columns=col_names).astype('int')\n",
    "overorder_viz_dataframe['extra_units'] = quantity_variations"
   ]
  },
  {
   "cell_type": "code",
   "execution_count": 26,
   "id": "fdaee264-863c-4255-977b-568a8640c494",
   "metadata": {},
   "outputs": [
    {
     "name": "stdout",
     "output_type": "stream",
     "text": [
      "\n"
     ]
    },
    {
     "data": {
      "image/png": "[encoded data removed]",
      "text/plain": [
       "<Figure size 640x480 with 1 Axes>"
      ]
     },
     "metadata": {},
     "output_type": "display_data"
    }
   ],
   "source": [
    "overorder_viz_dataframe.plot.area(\n",
    "    x='extra_units', \n",
    "    y=['missed_sales_costs', 'overstock_costs'], \n",
    "    ylim=[1000, 1500], \n",
    "    ylabel='Total cost', \n",
    "    xlabel='Extra units ordered in the volatile style',\n",
    "    title='Costs when increasing volatile styles\\' Q'\n",
    ").legend(loc='upper left')\n",
    "print()"
   ]
  },
  {
   "cell_type": "markdown",
   "id": "6e4e8212-ea9d-4f7b-82d2-4fd10dcc71b7",
   "metadata": {},
   "source": [
    "The result goes against our intuition: as we increase the size of the volatile order, both our costs increase."
   ]
  },
  {
   "cell_type": "markdown",
   "id": "de0f52f0-dbb8-4696-bb91-d40ba933810e",
   "metadata": {},
   "source": [
    "### Ordering less of the volatile style"
   ]
  },
  {
   "cell_type": "markdown",
   "id": "e2427ae2-9213-4e45-b1a5-e8bd497c476e",
   "metadata": {},
   "source": [
    "We do the opposite exercise as above: we gradually decrease the quantity ordered in the volatile style."
   ]
  },
  {
   "cell_type": "code",
   "execution_count": 15,
   "id": "e03746ba-911c-40d1-85c6-e9797f875ef7",
   "metadata": {},
   "outputs": [
    {
     "name": "stdout",
     "output_type": "stream",
     "text": [
      "Running simulation with 10 fewer units of the volatile style.\n",
      "Running simulation with 20 fewer units of the volatile style.\n",
      "Running simulation with 50 fewer units of the volatile style.\n",
      "Running simulation with 100 fewer units of the volatile style.\n",
      "Running simulation with 200 fewer units of the volatile style.\n",
      "Running simulation with 400 fewer units of the volatile style.\n"
     ]
    }
   ],
   "source": [
    "# Array to store results for later visualizations\n",
    "underorder_results = []\n",
    "\n",
    "# Run simulation with decreasing ordered units\n",
    "for fewer_units in quantity_variations:\n",
    "    print('Running simulation with {} fewer units of the volatile style.'.format(fewer_units))\n",
    "    # Create order\n",
    "    underorder_volatile_stles = half_mean_first_order.copy()\n",
    "    underorder_volatile_stles[[0,2]] += fewer_units/2\n",
    "    underorder_volatile_stles[1] -= fewer_units\n",
    "    \n",
    "    # print_order_details('Volatile {} fewer'.format(fewer_units), underorder_volatile_stles)\n",
    "    underorder_results.append(run_simul(underorder_volatile_stles, num_simuls))"
   ]
  },
  {
   "cell_type": "markdown",
   "id": "9f57a1be-03d9-44d3-a364-1a36c36290ff",
   "metadata": {},
   "source": [
    "### Visualizing results"
   ]
  },
  {
   "cell_type": "code",
   "execution_count": 16,
   "id": "27b4d15b-25ad-4176-9f05-917639becd40",
   "metadata": {},
   "outputs": [],
   "source": [
    "col_names = ['overstock_costs', 'missed_sales_costs']\n",
    "\n",
    "underorder_viz_dataframe = pd.DataFrame(underorder_results, columns=col_names).astype('int')\n",
    "underorder_viz_dataframe['fewer_units'] = quantity_variations"
   ]
  },
  {
   "cell_type": "code",
   "execution_count": 28,
   "id": "40b58186-ce65-49b7-b6cd-d09c3b43614f",
   "metadata": {},
   "outputs": [
    {
     "name": "stdout",
     "output_type": "stream",
     "text": [
      "\n"
     ]
    },
    {
     "data": {
      "image/png": "[encoded data removed]",
      "text/plain": [
       "<Figure size 640x480 with 1 Axes>"
      ]
     },
     "metadata": {},
     "output_type": "display_data"
    }
   ],
   "source": [
    "underorder_viz_dataframe.plot.area(\n",
    "    x='fewer_units', \n",
    "    y=['missed_sales_costs','overstock_costs'], \n",
    "    ylim=[1050,1270], \n",
    "    ylabel='Total cost', \n",
    "    xlabel='Fewer units ordered in the volatile style',\n",
    "    title='Costs when decreasing volatile styles\\' Q'\n",
    ").legend(loc='upper left')\n",
    "print()"
   ]
  },
  {
   "cell_type": "markdown",
   "id": "cacc3f78-8378-4884-92e2-ad989dc4b31f",
   "metadata": {},
   "source": [
    "It seems that, up to a certain extent, reducing the ordered quantity of the volatile style and increasing the order quantities of the less volatile styles, reduces both our overstocks and the number of sales we miss of a few units."
   ]
  },
  {
   "cell_type": "markdown",
   "id": "6f55bbf2-22ae-437a-a117-7ffb5e2c687b",
   "metadata": {},
   "source": [
    "## Limitations"
   ]
  },
  {
   "cell_type": "markdown",
   "id": "c3b9e8ab-c455-4b14-956c-00bf22115e8c",
   "metadata": {},
   "source": [
    "- This model, like all others is wrong. Before addressing how it was useful in the conclusions, we will hypothesize how it is wrong. If each year all styles are new, it is impossible for Wally to fit a normal distribution for each style, as there is a single datapoint. The distribution was probably fit including all styles, but this does not mean that it applies to each style. The opposite is true: in **Exhibit 5** we clearly see there is a \"jackpot\" style that is the lead seller of the season, while all the others sell below expectations. Fitting a gaussian on the observations of real demand gives a mean that is likely similar to the forecast mean, because the market size does not change much year over year; in terms of standard deviation, we hypothesize that the ratio between the Buyer Committee's one and the real one is not significant. The obtained gaussian is very flat, going towards a uniform distribution, or a totally random model.\n",
    "- Our analysis is incomplete. Disregarding the fact that we did not scale up the simulation to the entire order set, we did not explore all effects in this smaller sample either. For example, we did not inspect what the behavior of an unequal re-distribution of the units removed from the volatile style entails.\n",
    "- Our analysis is approximate. The sample we took is simply the first three elements of **Exhibit 10**, so it's unlikely to be representative. The size of increase/decrease of the orders is arbitrary. We did not take into account the ratio of standard deviation over mean of the two other styles when re-allocating ordered quantities between styles.\n",
    "- We only analyse the case of ordering the MOQ. This is because our intuition tells us it is better to wait to commit more units for production only after more accurate data is available.\n",
    "- In the case where the final seasonal demand is below capacity, our simulation leaves capacity unused. This, in reality, might mean that we do not fulfill our manufacturing agreement."
   ]
  },
  {
   "cell_type": "markdown",
   "id": "0f9d5f9d-dab7-4b79-8a45-67d8e5cf3931",
   "metadata": {},
   "source": [
    "## Conclusion"
   ]
  },
  {
   "cell_type": "markdown",
   "id": "ff2d7ffa-007b-43cc-9e58-ae6b9956e4d9",
   "metadata": {},
   "source": [
    "The simulation of a near-random model created with unclear assumptions is not very useful.\n",
    "\n",
    "One thing that the model taught us is that statistical intuitions need to be double checked. We expected to be able to reduce missed sales by increasing the size of the orders of volatile styles, but the opposite was true.\n",
    "\n",
    "One very notable outcome of the exercise is the fact that, with the given model, most of our costs incur in terms of missed sales. This made us question how this was possible given the distribution of points in **Exhibit 5a**, where most of the final sales were well below predictions. From this reflection, we realized that all the missed sales must have been coming from the \"jackpot\" style, coming to the conclusion that the *model* was created across styles, not for each style. In fact, as we were reading the text, we were puzzled of what the \"standard deviation\" of a style could mean, as each style only had one observation.\n",
    "\n",
    "As we have been proven to be wrong by this exercise once, it could be that our current intuition is biased and the underlying reasons for the results we obtained are still obscure to us, but at least we have a good narrative to sell to management :)"
   ]
  }
 ],
 "metadata": {
  "kernelspec": {
   "display_name": "Python 3 (ipykernel)",
   "language": "python",
   "name": "python3"
  },
  "language_info": {
   "codemirror_mode": {
    "name": "ipython",
    "version": 3
   },
   "file_extension": ".py",
   "mimetype": "text/x-python",
   "name": "python",
   "nbconvert_exporter": "python",
   "pygments_lexer": "ipython3",
   "version": "3.10.12"
  }
 },
 "nbformat": 4,
 "nbformat_minor": 5
}
