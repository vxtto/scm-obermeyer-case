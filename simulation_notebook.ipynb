{
 "cells": [
  {
   "cell_type": "markdown",
   "id": "f46abb66-c0eb-4983-9a31-12876a5828d7",
   "metadata": {},
   "source": [
    "# Obermeyer Case Simulation"
   ]
  },
  {
   "cell_type": "markdown",
   "id": "c79e211b-ac46-42ec-9ae9-e4f7f570275e",
   "metadata": {},
   "source": [
    "This notebook uses the "
   ]
  },
  {
   "cell_type": "code",
   "execution_count": 108,
   "id": "0ff7545e-2744-4a94-9a00-4e6cf686bd41",
   "metadata": {},
   "outputs": [],
   "source": [
    "import cupy as np"
   ]
  },
  {
   "cell_type": "code",
   "execution_count": 109,
   "id": "bdec2508-dae6-468f-8d13-4a960d6e311d",
   "metadata": {},
   "outputs": [],
   "source": [
    "products = {\n",
    "    \"gail\":(1017, 388),\n",
    "    \"isis\":(1042, 646),\n",
    "    \"entice\":(1358, 496)\n",
    "}"
   ]
  },
  {
   "cell_type": "code",
   "execution_count": 4,
   "id": "0acbae87-f5f2-4831-b1a4-b458640469c0",
   "metadata": {},
   "outputs": [],
   "source": [
    "product_distribution_moments = np.array(list(products.values()))\n",
    "means = product_distribution_moments[:,0]\n",
    "std_devs = product_distribution_moments[:,1]\n",
    "production_capacity = np.sum(means)"
   ]
  },
  {
   "cell_type": "code",
   "execution_count": 34,
   "id": "5420ce62-a8d9-4e4e-9590-be9a3fa33991",
   "metadata": {},
   "outputs": [],
   "source": [
    "def run_simul(first_order, num_simulations):\n",
    "    # Generate the final demand\n",
    "    gaussian_realizations = np.random.normal(loc=means, scale=std_devs, size=(num_simulations,3))\n",
    "    gaussian_realizations[gaussian_realizations<0] = 0\n",
    "\n",
    "    # Compute delta between demand and november order\n",
    "    delta_orders = gaussian_realizations - first_order\n",
    "\n",
    "    # Overstocks are products for which we already overshot during the first order\n",
    "    overstock = np.absolute(np.sum(delta_orders * (delta_orders < 0), axis=1))\n",
    "    # Missed sales is the products we won't be able to produce due to capacity\n",
    "    # constraints despite knowing the end of season values\n",
    "    remaining_demand = np.sum(delta_orders * (delta_orders > 0), axis=1)\n",
    "    remaining_capacity = production_capacity - first_order.sum()\n",
    "    missed_sales = remaining_demand - remaining_capacity\n",
    "    missed_sales[missed_sales < 0] = 0\n",
    "\n",
    "    # Costs on overstack are one per unit, missed sales are three per unit\n",
    "    overstock_cost = overstock\n",
    "    print(overstock_cost.mean())\n",
    "    missed_sales_cost = missed_sales * 3\n",
    "    print(missed_sales_cost.mean())\n",
    "    total_cost = overstock_cost + missed_sales_cost\n",
    "    \n",
    "    return total_cost.mean()"
   ]
  },
  {
   "cell_type": "code",
   "execution_count": 104,
   "id": "97051216-512f-4157-beee-a0aaacf1d8c2",
   "metadata": {},
   "outputs": [
    {
     "name": "stdout",
     "output_type": "stream",
     "text": [
      "half mean order: [508.5 521.  679. ], total: 1708.5\n",
      "over-ordering volatile styles: [500.5 537.  671. ], total: 1708.5\n",
      "under-ordering volatile styles: [629.5 279.  800. ], total: 1708.5\n"
     ]
    }
   ],
   "source": [
    "half_mean_first_order = means/2\n",
    "print('half mean order: {}, total: {}'.format(half_mean_first_order, half_mean_first_order.sum()))\n",
    "overorder_quantity = 10\n",
    "overorder_volatile_first_order = np.array([505.5-overorder_quantity/2, 527+overorder_quantity, 676-overorder_quantity/2])\n",
    "print('over-ordering volatile styles: {}, total: {}'.format(overorder_volatile_first_order, overorder_volatile_first_order.sum()))\n",
    "underorder_quantity = 100\n",
    "underorder_volatile_first_order = np.array([529.5+underorder_quantity, 479-underorder_quantity*2, 700+underorder_quantity])\n",
    "print('under-ordering volatile styles: {}, total: {}'.format(underorder_volatile_first_order, underorder_volatile_first_order.sum()))\n",
    "num_simuls = int(1.5e8)"
   ]
  },
  {
   "cell_type": "code",
   "execution_count": 105,
   "id": "75d7340f-0e55-46df-ad89-fb78eeddcdf0",
   "metadata": {},
   "outputs": [
    {
     "data": {
      "text/plain": [
       "{'gail': (1017, 388), 'isis': (1042, 646), 'entice': (1358, 496)}"
      ]
     },
     "execution_count": 105,
     "metadata": {},
     "output_type": "execute_result"
    }
   ],
   "source": [
    "products"
   ]
  },
  {
   "cell_type": "code",
   "execution_count": 106,
   "id": "6d98f28e-1e0e-4907-af3b-0edda3284f03",
   "metadata": {},
   "outputs": [],
   "source": [
    "def compare():\n",
    "    half_mean_cost = run_simul(half_mean_first_order, num_simuls)\n",
    "    over_volatile_cost = run_simul(overorder_volatile_first_order, num_simuls)\n",
    "    under_volatile_cost = run_simul(underorder_volatile_first_order, num_simuls)\n",
    "    print(half_mean_cost, over_volatile_cost, under_volatile_cost)"
   ]
  },
  {
   "cell_type": "code",
   "execution_count": 107,
   "id": "d606b112-a7e0-444c-891f-d9e21488e573",
   "metadata": {},
   "outputs": [
    {
     "name": "stdout",
     "output_type": "stream",
     "text": [
      "97.9497963809516\n",
      "1123.686793802585\n",
      "99.94302863456052\n",
      "1124.768317833354\n",
      "86.88655126037384\n",
      "1126.6085605240175\n",
      "1221.6365901835366 1224.7113464679146 1213.4951117843914\n"
     ]
    }
   ],
   "source": [
    "compare()"
   ]
  },
  {
   "cell_type": "code",
   "execution_count": 95,
   "id": "dbcc1cad-3223-4e4a-a377-f2aaa2ed6d6c",
   "metadata": {},
   "outputs": [
    {
     "name": "stdout",
     "output_type": "stream",
     "text": [
      "97.95374732674452\n",
      "1123.5880728005193\n",
      "201.28799553207938\n",
      "1233.354941328994\n",
      "92.29170463051692\n",
      "1137.4481196434367\n",
      "1221.541820127264 1434.6429368610738 1229.7398242739534\n"
     ]
    }
   ],
   "source": [
    "compare()"
   ]
  },
  {
   "cell_type": "code",
   "execution_count": 40,
   "id": "b0c4b122-5768-40ca-9ca2-0f06849424e0",
   "metadata": {},
   "outputs": [
    {
     "name": "stdout",
     "output_type": "stream",
     "text": [
      "97.9419666540934\n",
      "1123.6017674219443\n",
      "98.71542727748297\n",
      "1123.8240793558289\n",
      "97.25509490876757\n",
      "1123.398917380518\n",
      "1221.5437340760375 1222.5395066333117 1220.6540122892854\n"
     ]
    }
   ],
   "source": [
    "compare()"
   ]
  },
  {
   "cell_type": "code",
   "execution_count": 41,
   "id": "4c4f6e31-978a-4ca7-8d62-00999d3a3033",
   "metadata": {},
   "outputs": [
    {
     "name": "stdout",
     "output_type": "stream",
     "text": [
      "97.94632870600378\n",
      "1123.6983377492606\n",
      "98.71154841047016\n",
      "1124.1479305581495\n",
      "97.20107164981046\n",
      "1123.515711851174\n",
      "1221.6446664552648 1222.8594789686194 1220.7167835009843\n"
     ]
    }
   ],
   "source": [
    "compare()"
   ]
  },
  {
   "cell_type": "code",
   "execution_count": 42,
   "id": "ffda3100-cbbd-453a-91c2-881d573506bd",
   "metadata": {},
   "outputs": [
    {
     "name": "stdout",
     "output_type": "stream",
     "text": [
      "97.97328806239004\n",
      "1123.771404679598\n",
      "98.7104552737207\n",
      "1124.0334142195268\n",
      "97.24042685151024\n",
      "1123.4787019067003\n",
      "1221.744692741988 1222.7438694932473 1220.7191287582104\n"
     ]
    }
   ],
   "source": [
    "compare()"
   ]
  },
  {
   "cell_type": "code",
   "execution_count": 43,
   "id": "6dd223ed-aff1-4f57-a21a-cc3023228803",
   "metadata": {},
   "outputs": [
    {
     "name": "stdout",
     "output_type": "stream",
     "text": [
      "97.95116272387557\n",
      "1123.714080565611\n",
      "98.66843234772483\n",
      "1124.0854341798133\n",
      "97.24610881110931\n",
      "1123.5188527575067\n",
      "1221.6652432894866 1222.7538665275383 1220.764961568616\n"
     ]
    }
   ],
   "source": [
    "compare()"
   ]
  },
  {
   "cell_type": "code",
   "execution_count": 44,
   "id": "6535b1d8-c1ae-4028-9a7a-a8f80c2aec3b",
   "metadata": {},
   "outputs": [
    {
     "name": "stdout",
     "output_type": "stream",
     "text": [
      "97.95008771622751\n",
      "1123.669677454427\n",
      "98.65317482518633\n",
      "1124.1045224639029\n",
      "97.24474261984815\n",
      "1123.206198507281\n",
      "1221.619765170655 1222.7576972890893 1220.450941127129\n"
     ]
    }
   ],
   "source": [
    "compare()"
   ]
  },
  {
   "cell_type": "code",
   "execution_count": 35,
   "id": "8155ba0c-5eff-43ec-b5f8-ff93709ee208",
   "metadata": {},
   "outputs": [
    {
     "name": "stdout",
     "output_type": "stream",
     "text": [
      "1221.7148905538807 1222.454892348385 1220.8409365982295\n"
     ]
    }
   ],
   "source": [
    "compare()"
   ]
  },
  {
   "cell_type": "code",
   "execution_count": 36,
   "id": "b17cb45c-51f8-4097-8f11-8f85cccc2cb0",
   "metadata": {},
   "outputs": [
    {
     "name": "stdout",
     "output_type": "stream",
     "text": [
      "1221.5845082764438 1224.4660316531915 1222.6195832680896\n"
     ]
    }
   ],
   "source": [
    "compare()"
   ]
  },
  {
   "cell_type": "code",
   "execution_count": 37,
   "id": "cc247b71-42fb-4bbe-ab73-619ba2c8afd9",
   "metadata": {},
   "outputs": [
    {
     "name": "stdout",
     "output_type": "stream",
     "text": [
      "1220.5282274385133 1223.406889070468 1219.0460015574893\n"
     ]
    }
   ],
   "source": [
    "compare()"
   ]
  },
  {
   "cell_type": "code",
   "execution_count": 38,
   "id": "b99efe9d-794b-44fe-b323-98a343d61dd9",
   "metadata": {},
   "outputs": [
    {
     "name": "stdout",
     "output_type": "stream",
     "text": [
      "1220.778882161316 1222.8744422023049 1222.0186713075282\n"
     ]
    }
   ],
   "source": [
    "compare()"
   ]
  },
  {
   "cell_type": "code",
   "execution_count": 39,
   "id": "962c4b01-bf49-4ebe-b21b-5d5d6a727ef2",
   "metadata": {},
   "outputs": [
    {
     "name": "stdout",
     "output_type": "stream",
     "text": [
      "1220.2606628633018 1223.6184939674383 1222.0911350260415\n"
     ]
    }
   ],
   "source": [
    "compare()"
   ]
  },
  {
   "cell_type": "code",
   "execution_count": 40,
   "id": "0e7bc110-b3d3-4cd8-826e-de2933440515",
   "metadata": {},
   "outputs": [
    {
     "name": "stdout",
     "output_type": "stream",
     "text": [
      "1222.6129590036721 1222.0321629457221 1221.09557416603\n"
     ]
    }
   ],
   "source": [
    "compare()"
   ]
  },
  {
   "cell_type": "code",
   "execution_count": 41,
   "id": "56a8f48a-e122-4a8d-bfb1-f647d91442e7",
   "metadata": {},
   "outputs": [
    {
     "name": "stdout",
     "output_type": "stream",
     "text": [
      "1220.866016866949 1222.3423217199183 1220.2260768745186\n"
     ]
    }
   ],
   "source": [
    "compare()"
   ]
  },
  {
   "cell_type": "code",
   "execution_count": 42,
   "id": "272fc123-78d8-4a57-873f-e4ff7f7c4325",
   "metadata": {},
   "outputs": [
    {
     "name": "stdout",
     "output_type": "stream",
     "text": [
      "1221.7064263992443 1221.6180660337445 1221.6788947517857\n"
     ]
    }
   ],
   "source": [
    "compare()"
   ]
  },
  {
   "cell_type": "code",
   "execution_count": 43,
   "id": "e07ade8e-7e8f-4a51-ad48-bd202624bf7d",
   "metadata": {},
   "outputs": [
    {
     "name": "stdout",
     "output_type": "stream",
     "text": [
      "1222.971979713675 1222.2443512384634 1220.956536866181\n"
     ]
    }
   ],
   "source": [
    "compare()"
   ]
  },
  {
   "cell_type": "code",
   "execution_count": 44,
   "id": "dde5c6b2-6182-44f3-b6fa-5d9c0f47a80d",
   "metadata": {},
   "outputs": [
    {
     "name": "stdout",
     "output_type": "stream",
     "text": [
      "1222.005196493903 1223.829108377333 1219.0245363656525\n"
     ]
    }
   ],
   "source": [
    "compare()"
   ]
  },
  {
   "cell_type": "code",
   "execution_count": 45,
   "id": "106507eb-2f90-4e14-afce-0c32ef908173",
   "metadata": {},
   "outputs": [
    {
     "name": "stdout",
     "output_type": "stream",
     "text": [
      "1221.8113155688743 1221.7125237177265 1219.5097097787047\n"
     ]
    }
   ],
   "source": [
    "compare()"
   ]
  },
  {
   "cell_type": "code",
   "execution_count": 46,
   "id": "89b9e9a3-ad48-4ebd-9f18-96ccffaefc86",
   "metadata": {},
   "outputs": [
    {
     "name": "stdout",
     "output_type": "stream",
     "text": [
      "1222.1598055392378 1222.9979148299299 1219.7446950766127\n"
     ]
    }
   ],
   "source": [
    "compare()"
   ]
  },
  {
   "cell_type": "code",
   "execution_count": 47,
   "id": "22631951-bc1f-49cb-a5d2-dd07126dc27f",
   "metadata": {},
   "outputs": [
    {
     "name": "stdout",
     "output_type": "stream",
     "text": [
      "1224.3856192965832 1222.8343057822876 1221.186819847121\n"
     ]
    }
   ],
   "source": [
    "compare()"
   ]
  },
  {
   "cell_type": "code",
   "execution_count": null,
   "id": "45adc388-b80b-48e6-bd7d-2e25e8b184c6",
   "metadata": {},
   "outputs": [],
   "source": []
  }
 ],
 "metadata": {
  "kernelspec": {
   "display_name": "Python 3 (ipykernel)",
   "language": "python",
   "name": "python3"
  },
  "language_info": {
   "codemirror_mode": {
    "name": "ipython",
    "version": 3
   },
   "file_extension": ".py",
   "mimetype": "text/x-python",
   "name": "python",
   "nbconvert_exporter": "python",
   "pygments_lexer": "ipython3",
   "version": "3.10.12"
  }
 },
 "nbformat": 4,
 "nbformat_minor": 5
}
